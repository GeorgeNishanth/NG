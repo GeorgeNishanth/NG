{
  "nbformat": 4,
  "nbformat_minor": 0,
  "metadata": {
    "colab": {
      "provenance": [],
      "include_colab_link": true
    },
    "kernelspec": {
      "name": "python3",
      "display_name": "Python 3"
    },
    "language_info": {
      "name": "python"
    }
  },
  "cells": [
    {
      "cell_type": "markdown",
      "metadata": {
        "id": "view-in-github",
        "colab_type": "text"
      },
      "source": [
        "<a href=\"https://colab.research.google.com/github/GeorgeNishanth/NG/blob/main/classificationproblem.ipynb\" target=\"_parent\"><img src=\"https://colab.research.google.com/assets/colab-badge.svg\" alt=\"Open In Colab\"/></a>"
      ]
    },
    {
      "cell_type": "code",
      "source": [
        "import numpy as np\n",
        "from sklearn.feature_extraction.text import TfidfVectorizer\n",
        "from sklearn.linear_model import LogisticRegression\n",
        "\n",
        "# Load the pre-trained model\n",
        "pretrained_model = TfidfVectorizer()\n",
        "pretrained_model.fit(['This is a positive review', 'This is a negative review'])\n",
        "# Extract features from the data\n",
        "X_train = pretrained_model.transform(['I love this product!', 'This product is terrible.'])\n",
        "\n",
        "# Train a new model on the target task\n",
        "y_train = np.array([1, 0])\n",
        "clf = LogisticRegression()\n",
        "clf.fit(X_train, y_train)\n",
        "\n",
        "# Make predictions on new data\n",
        "X_new = pretrained_model.transform(['This product is the best!'])\n",
        "y_pred = clf.predict(X_new)\n",
        "\n",
        "# Print the prediction\n",
        "print(y_pred)"
      ],
      "metadata": {
        "colab": {
          "base_uri": "https://localhost:8080/"
        },
        "id": "69X___sHH90J",
        "outputId": "63cdcf8e-af53-43a5-b82c-bd5ec2fd7511"
      },
      "execution_count": null,
      "outputs": [
        {
          "output_type": "stream",
          "name": "stdout",
          "text": [
            "[0]\n"
          ]
        }
      ]
    },
    {
      "cell_type": "code",
      "source": [
        "import torch\n",
        "from sklearn.model_selection import train_test_split\n",
        "\n",
        "# Example synthetic data (input texts and labels)\n",
        "texts = [\n",
        "    \"I love this product!\",  # Positive sentiment\n",
        "    \"This product is terrible.\",  # Negative sentiment\n",
        "    \"I had a great experience.\",  # Positive sentiment\n",
        "    \"I would not recommend this.\",  # Negative sentiment\n",
        "    \"Absolutely fantastic!\",  # Positive sentiment\n",
        "    \"Horrible experience.\",  # Negative sentiment\n",
        "]\n",
        "labels = [1, 0, 1, 0, 1, 0]  # 1 for positive, 0 for negative\n",
        "\n",
        "# Tokenize the texts\n",
        "tokenizer = AutoTokenizer.from_pretrained(\"distilbert-base-uncased\")\n",
        "\n",
        "# Prepare the dataset\n",
        "input_encodings = tokenizer(texts, padding=True, truncation=True, return_tensors='pt')\n",
        "train_data = [{\n",
        "    'input_ids': input_encodings['input_ids'][i],\n",
        "    'attention_mask': input_encodings['attention_mask'][i],\n",
        "    'labels': torch.tensor(labels[i])\n",
        "} for i in range(len(labels))]\n",
        "\n",
        "# Save the synthetic dataset\n",
        "torch.save(train_data, \"train_data.pt\")\n"
      ],
      "metadata": {
        "id": "i_GQrjQZKKKB"
      },
      "execution_count": null,
      "outputs": []
    },
    {
      "cell_type": "code",
      "source": [
        "import torch\n",
        "from torch.utils.data import DataLoader, Dataset\n",
        "from transformers import AutoTokenizer, AutoModelForSequenceClassification\n",
        "import torch.optim as optim\n",
        "\n",
        "# Define the custom dataset class\n",
        "class CustomDataset(Dataset):\n",
        "    def __init__(self, data):\n",
        "        self.data = data\n",
        "\n",
        "    def __len__(self):\n",
        "        return len(self.data)\n",
        "\n",
        "    def __getitem__(self, idx):\n",
        "        return self.data[idx]\n",
        "\n",
        "# Load the synthetic dataset\n",
        "train_data = torch.load(\"train_data.pt\", weights_only=True)  # Use weights_only=True\n",
        "\n",
        "# Create DataLoader\n",
        "train_dataset = CustomDataset(train_data)\n",
        "train_dataloader = DataLoader(train_dataset, batch_size=2, shuffle=True)\n",
        "\n",
        "# Load the pre-trained model\n",
        "tokenizer = AutoTokenizer.from_pretrained(\"distilbert-base-uncased\")\n",
        "model = AutoModelForSequenceClassification.from_pretrained(\"distilbert-base-uncased\", num_labels=2)\n",
        "\n",
        "# Define the optimizer\n",
        "optimizer = optim.AdamW(model.parameters(), lr=5e-5)\n",
        "\n",
        "# Training Loop\n",
        "model.train()\n",
        "for epoch in range(5):\n",
        "    for batch in train_dataloader:\n",
        "\n",
        "        input_ids = batch['input_ids'].to(model.device)\n",
        "        attention_mask = batch['attention_mask'].to(model.device)\n",
        "        labels = batch['labels'].to(model.device)\n",
        "\n",
        "        # Forward pass\n",
        "        outputs = model(input_ids, attention_mask=attention_mask, labels=labels)\n",
        "        loss = outputs.loss\n",
        "\n",
        "        # Backward pass\n",
        "        optimizer.zero_grad()\n",
        "        loss.backward()\n",
        "        optimizer.step()\n",
        "\n",
        "    print(f\"Epoch {epoch + 1}: Loss = {loss.item()}\")\n",
        "\n",
        "# Save the fine-tuned model\n",
        "model.save_pretrained(\"fine-tuned-model\")\n",
        "tokenizer.save_pretrained(\"fine-tuned-model\")\n"
      ],
      "metadata": {
        "colab": {
          "base_uri": "https://localhost:8080/"
        },
        "id": "ptF7ssM5KULI",
        "outputId": "24950216-3b49-419a-f887-e4e2bc8e8086"
      },
      "execution_count": null,
      "outputs": [
        {
          "output_type": "stream",
          "name": "stderr",
          "text": [
            "Some weights of DistilBertForSequenceClassification were not initialized from the model checkpoint at distilbert-base-uncased and are newly initialized: ['classifier.bias', 'classifier.weight', 'pre_classifier.bias', 'pre_classifier.weight']\n",
            "You should probably TRAIN this model on a down-stream task to be able to use it for predictions and inference.\n"
          ]
        },
        {
          "output_type": "stream",
          "name": "stdout",
          "text": [
            "Epoch 1: Loss = 0.6838124990463257\n",
            "Epoch 2: Loss = 0.7175323963165283\n",
            "Epoch 3: Loss = 0.5076355338096619\n",
            "Epoch 4: Loss = 0.41667771339416504\n",
            "Epoch 5: Loss = 0.2675507068634033\n"
          ]
        },
        {
          "output_type": "execute_result",
          "data": {
            "text/plain": [
              "('fine-tuned-model/tokenizer_config.json',\n",
              " 'fine-tuned-model/special_tokens_map.json',\n",
              " 'fine-tuned-model/vocab.txt',\n",
              " 'fine-tuned-model/added_tokens.json',\n",
              " 'fine-tuned-model/tokenizer.json')"
            ]
          },
          "metadata": {},
          "execution_count": 10
        }
      ]
    },
    {
      "cell_type": "code",
      "source": [
        "import torch\n",
        "from transformers import AutoTokenizer, AutoModelForSequenceClassification\n",
        "\n",
        "# Load the fine-tuned model and tokenizer\n",
        "model = AutoModelForSequenceClassification.from_pretrained(\"fine-tuned-model\")\n",
        "tokenizer = AutoTokenizer.from_pretrained(\"fine-tuned-model\")\n",
        "\n",
        "# Set the model to evaluation mode\n",
        "model.eval()\n",
        "\n",
        "# Classify a text sequence\n",
        "text_sequence = \"This is a positive review.\"\n",
        "inputs = tokenizer(text_sequence, return_tensors=\"pt\", padding=True, truncation=True)\n",
        "\n",
        "with torch.no_grad():\n",
        "    outputs = model(**inputs)\n",
        "\n",
        "# Get the predicted label\n",
        "predicted_label = outputs.logits.argmax(-1).item()\n",
        "\n",
        "# Print the predicted label\n",
        "print(f\"Predicted label: {predicted_label}\")\n"
      ],
      "metadata": {
        "colab": {
          "base_uri": "https://localhost:8080/"
        },
        "id": "1T2-NGCOLU59",
        "outputId": "b45dc66e-d6ab-42ce-a6c8-58cc1fbd4a94"
      },
      "execution_count": null,
      "outputs": [
        {
          "output_type": "stream",
          "name": "stdout",
          "text": [
            "Predicted label: 0\n"
          ]
        }
      ]
    }
  ]
}