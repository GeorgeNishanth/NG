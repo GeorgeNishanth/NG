{
  "cells": [
    {
      "cell_type": "markdown",
      "metadata": {
        "id": "view-in-github",
        "colab_type": "text"
      },
      "source": [
        "<a href=\"https://colab.research.google.com/github/GeorgeNishanth/NG/blob/main/ImageGeneration_GAN.ipynb\" target=\"_parent\"><img src=\"https://colab.research.google.com/assets/colab-badge.svg\" alt=\"Open In Colab\"/></a>"
      ]
    },
    {
      "cell_type": "code",
      "execution_count": null,
      "metadata": {
        "colab": {
          "base_uri": "https://localhost:8080/",
          "height": 485
        },
        "id": "Sziiq0XVbyzA",
        "outputId": "11fb45fa-59b3-4fa2-af1a-31beb8de3835"
      },
      "outputs": [
        {
          "name": "stdout",
          "output_type": "stream",
          "text": [
            "Downloading data from https://storage.googleapis.com/tensorflow/tf-keras-datasets/mnist.npz\n",
            "\u001b[1m11490434/11490434\u001b[0m \u001b[32m━━━━━━━━━━━━━━━━━━━━\u001b[0m\u001b[37m\u001b[0m \u001b[1m0s\u001b[0m 0us/step\n"
          ]
        },
        {
          "data": {
            "image/png": "[encoded data removed]",
            "text/plain": [
              "<Figure size 640x480 with 1 Axes>"
            ]
          },
          "metadata": {},
          "output_type": "display_data"
        }
      ],
      "source": [
        "import warnings\n",
        "warnings.filterwarnings('ignore')\n",
        "\n",
        "import numpy as np\n",
        "import tensorflow as tf\n",
        "from tensorflow.keras.datasets import mnist\n",
        "import matplotlib.pyplot as plt\n",
        "%matplotlib inline\n",
        "\n",
        "# Set TensorFlow logging level\n",
        "tf.get_logger().setLevel('ERROR')\n",
        "\n",
        "# Reset the default graph (for TensorFlow 2.x)\n",
        "tf.compat.v1.reset_default_graph()\n",
        "\n",
        "# Load the MNIST dataset using Keras\n",
        "(x_train, _), (_, _) = mnist.load_data()\n",
        "\n",
        "# Normalize the data to [0, 1]\n",
        "x_train = x_train / 255.0\n",
        "\n",
        "# Display the 14th image (index 13)\n",
        "plt.imshow(x_train[13], cmap=\"gray\")\n",
        "plt.show()\n"
      ]
    },
    {
      "cell_type": "code",
      "execution_count": null,
      "metadata": {
        "id": "OUBEuxWieKYE"
      },
      "outputs": [],
      "source": [
        "def generator(z,reuse=None):\n",
        "\n",
        "    with tf.variable_scope('generator',reuse=reuse):\n",
        "\n",
        "        hidden1 = tf.layers.dense(inputs=z,units=128,activation=tf.nn.leaky_relu)\n",
        "        hidden2 = tf.layers.dense(inputs=hidden1,units=128,activation=tf.nn.leaky_relu)\n",
        "        output = tf.layers.dense(inputs=hidden2,units=784,activation=tf.nn.tanh)\n",
        "\n",
        "        return output"
      ]
    },
    {
      "cell_type": "code",
      "execution_count": null,
      "metadata": {
        "id": "4U7GS3Emei86"
      },
      "outputs": [],
      "source": [
        "def discriminator(X,reuse=None):\n",
        "\n",
        "    with tf.variable_scope('discriminator',reuse=reuse):\n",
        "\n",
        "        hidden1 = tf.layers.dense(inputs=X,units=128,activation=tf.nn.leaky_relu)\n",
        "        hidden2 = tf.layers.dense(inputs=hidden1,units=128,activation=tf.nn.leaky_relu)\n",
        "        logits = tf.layers.dense(inputs=hidden2,units=1)\n",
        "        output = tf.sigmoid(logits)\n",
        "\n",
        "        return logits"
      ]
    },
    {
      "cell_type": "code",
      "execution_count": null,
      "metadata": {
        "id": "H3_htt65escO"
      },
      "outputs": [],
      "source": [
        "import tensorflow as tf\n",
        "\n",
        "# Define input shapes using Keras layers (instead of placeholders)\n",
        "x = tf.keras.Input(shape=(784,))  # Input for images (28x28 flattened)\n",
        "z = tf.keras.Input(shape=(100,))  # Input for random noise\n",
        "\n",
        "# Continue defining your model here...\n"
      ]
    },
    {
      "cell_type": "code",
      "execution_count": null,
      "metadata": {
        "id": "H-35k6GmevO5"
      },
      "outputs": [],
      "source": [
        "import tensorflow as tf\n",
        "\n",
        "# Define the generator model using Keras\n",
        "class Generator(tf.keras.Model):\n",
        "    def __init__(self):\n",
        "        super(Generator, self).__init__()\n",
        "        self.dense1 = tf.keras.layers.Dense(128, activation='relu')\n",
        "        self.dense2 = tf.keras.layers.Dense(784, activation='sigmoid')  # Output layer (flattened 28x28)\n",
        "\n",
        "    def call(self, z):\n",
        "        x = self.dense1(z)\n",
        "        fake_x = self.dense2(x)\n",
        "        return fake_x\n",
        "\n",
        "# Instantiate the generator model\n",
        "generator = Generator()\n",
        "\n",
        "# Pass noise vector 'z' through the generator\n",
        "fake_x = generator(z)\n"
      ]
    },
    {
      "cell_type": "code",
      "execution_count": null,
      "metadata": {
        "id": "fznjW_-HfHju"
      },
      "outputs": [],
      "source": [
        "import tensorflow as tf\n",
        "\n",
        "# Define the discriminator model using Keras\n",
        "class Discriminator(tf.keras.Model):\n",
        "    def __init__(self):\n",
        "        super(Discriminator, self).__init__()\n",
        "        self.dense1 = tf.keras.layers.Dense(128, activation=tf.nn.leaky_relu)\n",
        "        self.dense2 = tf.keras.layers.Dense(1, activation='sigmoid')  # Output layer (real or fake)\n",
        "\n",
        "    def call(self, X):\n",
        "        x = self.dense1(X)\n",
        "        D_logits_real = self.dense2(x)\n",
        "        return D_logits_real\n",
        "\n",
        "# Instantiate the discriminator model\n",
        "discriminator = Discriminator()\n",
        "\n",
        "# Pass real image 'x' through the discriminator\n",
        "D_logits_real = discriminator(x)\n"
      ]
    },
    {
      "cell_type": "code",
      "execution_count": null,
      "metadata": {
        "id": "O5dqo-ArJuWD"
      },
      "outputs": [],
      "source": [
        "# Pass fake image 'fake_x' through the discriminator (no need for 'reuse')\n",
        "D_logits_fake = discriminator(fake_x)\n"
      ]
    },
    {
      "cell_type": "code",
      "execution_count": null,
      "metadata": {
        "colab": {
          "base_uri": "https://localhost:8080/"
        },
        "id": "oITIJQgwKBmp",
        "outputId": "b4d1d537-b539-41ed-c998-4a9c650e8b07"
      },
      "outputs": [
        {
          "name": "stdout",
          "output_type": "stream",
          "text": [
            "tf.Tensor(0.99562377, shape=(), dtype=float32)\n"
          ]
        }
      ],
      "source": [
        "import tensorflow as tf\n",
        "\n",
        "# Assuming the discriminator is defined using tf.keras.Model\n",
        "class Discriminator(tf.keras.Model):\n",
        "    def __init__(self):\n",
        "        super(Discriminator, self).__init__()\n",
        "        self.dense1 = tf.keras.layers.Dense(128, activation=tf.nn.leaky_relu)\n",
        "        self.dense2 = tf.keras.layers.Dense(1, activation=None)  # Logits (no activation on output)\n",
        "\n",
        "    def call(self, X):\n",
        "        x = self.dense1(X)\n",
        "        D_logits_real = self.dense2(x)\n",
        "        return D_logits_real\n",
        "\n",
        "# Instantiate the discriminator model\n",
        "discriminator = Discriminator()\n",
        "\n",
        "# Ensure x is a tf.Tensor (real images)\n",
        "# Example: Assuming x is your input image tensor\n",
        "x = tf.random.normal([32, 784])  # Example real images batch (32 examples, 784 features)\n",
        "\n",
        "# Ensure D_logits_real is a TensorFlow tensor\n",
        "D_logits_real = discriminator(x)  # Pass the input x (real images)\n",
        "\n",
        "# Compute the discriminator loss for real images\n",
        "@tf.function\n",
        "def compute_D_loss_real(D_logits_real):\n",
        "    return tf.reduce_mean(tf.nn.sigmoid_cross_entropy_with_logits(\n",
        "        logits=D_logits_real,\n",
        "        labels=tf.ones_like(D_logits_real)  # Labels are 1 for real images\n",
        "    ))\n",
        "\n",
        "# Call the loss function\n",
        "D_loss_real = compute_D_loss_real(D_logits_real)\n",
        "\n",
        "print(D_loss_real)\n"
      ]
    },
    {
      "cell_type": "code",
      "execution_count": null,
      "metadata": {
        "colab": {
          "base_uri": "https://localhost:8080/"
        },
        "id": "wcEmOjpvLT1i",
        "outputId": "3f092328-6190-4df4-a373-9e55ef60d26d"
      },
      "outputs": [
        {
          "name": "stdout",
          "output_type": "stream",
          "text": [
            "tf.Tensor(1.0662465, shape=(), dtype=float32)\n"
          ]
        }
      ],
      "source": [
        "import tensorflow as tf\n",
        "\n",
        "# Define your Discriminator model\n",
        "class Discriminator(tf.keras.Model):\n",
        "    def __init__(self):\n",
        "        super(Discriminator, self).__init__()\n",
        "        self.dense1 = tf.keras.layers.Dense(128, activation=tf.nn.leaky_relu)\n",
        "        self.dense2 = tf.keras.layers.Dense(1, activation=None)  # Logits (no activation on output)\n",
        "\n",
        "    def call(self, X):\n",
        "        x = self.dense1(X)\n",
        "        D_logits_fake = self.dense2(x)\n",
        "        return D_logits_fake\n",
        "\n",
        "# Instantiate the discriminator model\n",
        "discriminator = Discriminator()\n",
        "\n",
        "# Create input tensor for fake images\n",
        "# Example: Assuming z is the input noise tensor\n",
        "z = tf.random.normal([32, 100])  # Example batch size of 32, noise vector of size 100\n",
        "\n",
        "# Generate fake images using the generator (example fake_x)\n",
        "fake_x = generator(z)  # Assuming you have a generator model\n",
        "\n",
        "# Pass the fake images through the discriminator\n",
        "D_logits_fake = discriminator(fake_x)  # This will give the logits for fake images\n",
        "\n",
        "# Compute the discriminator loss for fake images\n",
        "@tf.function\n",
        "def compute_D_loss_fake(D_logits_fake):\n",
        "    return tf.reduce_mean(tf.nn.sigmoid_cross_entropy_with_logits(\n",
        "        logits=D_logits_fake,\n",
        "        labels=tf.zeros_like(D_logits_fake)  # Labels are 0 for fake images\n",
        "    ))\n",
        "\n",
        "# Call the loss function\n",
        "D_loss_fake = compute_D_loss_fake(D_logits_fake)\n",
        "\n",
        "print(D_loss_fake)\n"
      ]
    },
    {
      "cell_type": "code",
      "execution_count": null,
      "metadata": {
        "colab": {
          "base_uri": "https://localhost:8080/"
        },
        "id": "s54NiUgnLsml",
        "outputId": "2d26a6be-3551-4cfa-9667-9449fc6295b1"
      },
      "outputs": [
        {
          "data": {
            "text/plain": [
              "<tf.Tensor: shape=(), dtype=float32, numpy=2.0618703>"
            ]
          },
          "execution_count": 14,
          "metadata": {},
          "output_type": "execute_result"
        }
      ],
      "source": [
        " D_loss_real + D_loss_fake"
      ]
    },
    {
      "cell_type": "code",
      "execution_count": null,
      "metadata": {
        "id": "AoqarP7gMCzZ"
      },
      "outputs": [],
      "source": [
        "G_loss = tf.reduce_mean(tf.nn.sigmoid_cross_entropy_with_logits(\n",
        "    logits=D_logits_fake,\n",
        "    labels=tf.ones_like(D_logits_fake)  # Generator wants the fake images to be classified as real\n",
        "))\n"
      ]
    },
    {
      "cell_type": "code",
      "execution_count": null,
      "metadata": {
        "id": "ZRkD4nanMDWU"
      },
      "outputs": [],
      "source": [
        "# Get the trainable variables for the generator and discriminator\n",
        "theta_D = [var for var in discriminator.trainable_variables if 'dis' in var.name]\n",
        "theta_G = [var for var in generator.trainable_variables if 'gen' in var.name]\n"
      ]
    },
    {
      "cell_type": "code",
      "execution_count": null,
      "metadata": {
        "id": "z007mzjBNCvm"
      },
      "outputs": [],
      "source": [
        "import tensorflow as tf\n",
        "\n",
        "# Assume generator and discriminator are defined as tf.keras.Model instances\n",
        "generator = ...  # Your generator model definition here\n",
        "discriminator = ...  # Your discriminator model definition here\n",
        "\n",
        "# Define optimizers\n",
        "D_optimizer = tf.keras.optimizers.Adam(learning_rate=0.001)\n",
        "G_optimizer = tf.keras.optimizers.Adam(learning_rate=0.001)\n",
        "\n",
        "# Training step function using GradientTape\n",
        "@tf.function\n",
        "def training_step(real_images, noise):\n",
        "    with tf.GradientTape() as disc_tape, tf.GradientTape() as gen_tape:\n",
        "        # Generate fake images from noise\n",
        "        fake_images = generator(noise, training=True)\n",
        "\n",
        "        # Discriminator outputs\n",
        "        D_logits_real = discriminator(real_images, training=True)\n",
        "        D_logits_fake = discriminator(fake_images, training=True)\n",
        "\n",
        "        # Calculate losses\n",
        "        D_loss_real = tf.reduce_mean(tf.nn.sigmoid_cross_entropy_with_logits(\n",
        "            logits=D_logits_real, labels=tf.ones_like(D_logits_real)\n",
        "        ))\n",
        "        D_loss_fake = tf.reduce_mean(tf.nn.sigmoid_cross_entropy_with_logits(\n",
        "            logits=D_logits_fake, labels=tf.zeros_like(D_logits_fake)\n",
        "        ))\n",
        "        D_loss = D_loss_real + D_loss_fake\n",
        "\n",
        "        G_loss = tf.reduce_mean(tf.nn.sigmoid_cross_entropy_with_logits(\n",
        "            logits=D_logits_fake, labels=tf.ones_like(D_logits_fake)\n",
        "        ))\n",
        "\n",
        "    # Calculate gradients\n",
        "    D_gradients = disc_tape.gradient(D_loss, discriminator.trainable_variables)\n",
        "    G_gradients = gen_tape.gradient(G_loss, generator.trainable_variables)\n",
        "\n",
        "    # Apply gradients\n",
        "    D_optimizer.apply_gradients(zip(D_gradients, discriminator.trainable_variables))\n",
        "    G_optimizer.apply_gradients(zip(G_gradients, generator.trainable_variables))\n"
      ]
    },
    {
      "cell_type": "code",
      "execution_count": null,
      "metadata": {
        "id": "d-0ZRbeHN_Ae"
      },
      "outputs": [],
      "source": [
        "# Use TensorFlow 2.x compatible initializer\n",
        "init = tf.compat.v1.global_variables_initializer()"
      ]
    },
    {
      "cell_type": "code",
      "execution_count": null,
      "metadata": {
        "colab": {
          "background_save": true,
          "base_uri": "https://localhost:8080/",
          "height": 537
        },
        "id": "rwCxhXI2ORYg",
        "outputId": "bc9192cc-4e58-4cee-8a1b-0aa93fa14ef0"
      },
      "outputs": [
        {
          "name": "stderr",
          "output_type": "stream",
          "text": [
            "/usr/local/lib/python3.10/dist-packages/keras/src/layers/core/dense.py:87: UserWarning: Do not pass an `input_shape`/`input_dim` argument to a layer. When using Sequential models, prefer using an `Input(shape)` object as the first layer in the model instead.\n",
            "  super().__init__(activity_regularizer=activity_regularizer, **kwargs)\n",
            "/usr/local/lib/python3.10/dist-packages/keras/src/backend/tensorflow/nn.py:681: UserWarning: \"`binary_crossentropy` received `from_logits=True`, but the `output` argument was produced by a Sigmoid activation and thus does not represent logits. Was this intended?\n",
            "  output, from_logits = _get_logits(\n"
          ]
        },
        {
          "name": "stdout",
          "output_type": "stream",
          "text": [
            "Epoch: 0, Discriminator Loss: 1.9130250166199403e-06, Generator Loss: 13.887944221496582\n"
          ]
        },
        {
          "data": {
            "image/png": "[encoded data removed]",
            "text/plain": [
              "<Figure size 640x480 with 1 Axes>"
            ]
          },
          "metadata": {},
          "output_type": "display_data"
        }
      ],
      "source": [
        "import tensorflow as tf\n",
        "import numpy as np\n",
        "import matplotlib.pyplot as plt\n",
        "\n",
        "# Set training parameters\n",
        "batch_size = 100\n",
        "num_epochs = 1000\n",
        "z_dim = 100\n",
        "image_dim = 784  # 28x28 flattened\n",
        "\n",
        "# Define the generator model\n",
        "def build_generator(z_dim):\n",
        "    model = tf.keras.Sequential([\n",
        "        tf.keras.layers.Dense(256, activation='relu', input_shape=(z_dim,)),\n",
        "        tf.keras.layers.Dense(512, activation='relu'),\n",
        "        tf.keras.layers.Dense(1024, activation='relu'),\n",
        "        tf.keras.layers.Dense(image_dim, activation='tanh')  # Use 'tanh' activation for [-1, 1] output\n",
        "    ])\n",
        "    return model\n",
        "\n",
        "# Define the discriminator model\n",
        "def build_discriminator(image_dim):\n",
        "    model = tf.keras.Sequential([\n",
        "        tf.keras.layers.Dense(1024, activation='relu', input_shape=(image_dim,)),\n",
        "        tf.keras.layers.Dense(512, activation='relu'),\n",
        "        tf.keras.layers.Dense(256, activation='relu'),\n",
        "        tf.keras.layers.Dense(1, activation='sigmoid')\n",
        "    ])\n",
        "    return model\n",
        "\n",
        "# Instantiate the generator and discriminator\n",
        "generator = build_generator(z_dim)\n",
        "discriminator = build_discriminator(image_dim)\n",
        "\n",
        "# Loss function and optimizers\n",
        "cross_entropy = tf.keras.losses.BinaryCrossentropy(from_logits=True)\n",
        "D_optimizer = tf.keras.optimizers.Adam(learning_rate=0.001)\n",
        "G_optimizer = tf.keras.optimizers.Adam(learning_rate=0.001)\n",
        "\n",
        "# Loss functions for discriminator and generator\n",
        "def discriminator_loss(real_output, fake_output):\n",
        "    real_loss = cross_entropy(tf.ones_like(real_output), real_output)\n",
        "    fake_loss = cross_entropy(tf.zeros_like(fake_output), fake_output)\n",
        "    return real_loss + fake_loss\n",
        "\n",
        "def generator_loss(fake_output):\n",
        "    return cross_entropy(tf.ones_like(fake_output), fake_output)\n",
        "\n",
        "# Training function without @tf.function (for eager execution)\n",
        "def train_step(real_images):\n",
        "    noise = tf.random.uniform([batch_size, z_dim], -1.0, 1.0)\n",
        "\n",
        "    with tf.GradientTape() as d_tape, tf.GradientTape() as g_tape:\n",
        "        generated_images = generator(noise, training=True)\n",
        "\n",
        "        real_output = discriminator(real_images, training=True)\n",
        "        fake_output = discriminator(generated_images, training=True)\n",
        "\n",
        "        d_loss = discriminator_loss(real_output, fake_output)\n",
        "        g_loss = generator_loss(fake_output)\n",
        "\n",
        "    # Calculate gradients for both discriminator and generator\n",
        "    d_gradients = d_tape.gradient(d_loss, discriminator.trainable_variables)\n",
        "    g_gradients = g_tape.gradient(g_loss, generator.trainable_variables)\n",
        "\n",
        "    # Apply gradients using the Adam optimizer\n",
        "    D_optimizer.apply_gradients(zip(d_gradients, discriminator.trainable_variables))\n",
        "    G_optimizer.apply_gradients(zip(g_gradients, generator.trainable_variables))\n",
        "\n",
        "    return d_loss, g_loss, generated_images\n",
        "\n",
        "# Load and preprocess the MNIST dataset\n",
        "(x_train, _), (_, _) = tf.keras.datasets.mnist.load_data()\n",
        "x_train = (x_train.reshape(-1, image_dim) / 255.0) * 2 - 1  # Normalize to [-1, 1]\n",
        "\n",
        "# Training loop\n",
        "for epoch in range(num_epochs):\n",
        "    # Shuffle and create batches for each epoch\n",
        "    np.random.shuffle(x_train)\n",
        "    num_batches = x_train.shape[0] // batch_size\n",
        "\n",
        "    for i in range(num_batches):\n",
        "        batch_images = x_train[i * batch_size: (i + 1) * batch_size]\n",
        "        d_loss, g_loss, generated_images = train_step(batch_images)\n",
        "\n",
        "    # Every 100 epochs, print the losses and generate an image\n",
        "    if epoch % 100 == 0:\n",
        "        print(f\"Epoch: {epoch}, Discriminator Loss: {d_loss}, Generator Loss: {g_loss}\")\n",
        "\n",
        "        # Generate and display a sample image\n",
        "        noise = tf.random.uniform([1, z_dim], -1.0, 1.0)\n",
        "        generated_image = generator(noise, training=False)  # Make sure to set training=False for inference\n",
        "\n",
        "        # Convert the tensor to a numpy array and reshape for display\n",
        "        plt.imshow(generated_image[0].numpy().reshape(28, 28), cmap='gray')\n",
        "        plt.show()"
      ]
    }
  ],
  "metadata": {
    "colab": {
      "provenance": [],
      "authorship_tag": "ABX9TyP8LTyVxvTXO4cIL3gf4ldH",
      "include_colab_link": true
    },
    "kernelspec": {
      "display_name": "Python 3",
      "name": "python3"
    },
    "language_info": {
      "name": "python"
    }
  },
  "nbformat": 4,
  "nbformat_minor": 0
}